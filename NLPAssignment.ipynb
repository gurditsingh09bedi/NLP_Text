{
  "nbformat": 4,
  "nbformat_minor": 0,
  "metadata": {
    "colab": {
      "provenance": []
    },
    "kernelspec": {
      "name": "python3",
      "display_name": "Python 3"
    },
    "language_info": {
      "name": "python"
    }
  },
  "cells": [
    {
      "cell_type": "code",
      "execution_count": 1,
      "metadata": {
        "colab": {
          "base_uri": "https://localhost:8080/"
        },
        "id": "297KAEY-gzvW",
        "outputId": "3e1d82f8-b522-4d68-9338-ed93459ea90c"
      },
      "outputs": [
        {
          "output_type": "stream",
          "name": "stderr",
          "text": [
            "[nltk_data] Downloading package punkt to /root/nltk_data...\n",
            "[nltk_data]   Unzipping tokenizers/punkt.zip.\n",
            "[nltk_data] Downloading package punkt to /root/nltk_data...\n",
            "[nltk_data]   Package punkt is already up-to-date!\n",
            "[nltk_data] Downloading package wordnet to /root/nltk_data...\n",
            "[nltk_data] Downloading package omw-1.4 to /root/nltk_data...\n",
            "[nltk_data] Downloading package stopwords to /root/nltk_data...\n",
            "[nltk_data]   Unzipping corpora/stopwords.zip.\n"
          ]
        }
      ],
      "source": [
        "import pandas as pd\n",
        "import numpy as np\n",
        "import nltk\n",
        "import seaborn as sns\n",
        "from nltk.tokenize import word_tokenize\n",
        "from sklearn.feature_extraction.text import CountVectorizer\n",
        "from sklearn.feature_extraction.text import TfidfVectorizer\n",
        "import re\n",
        "from nltk.tokenize import TweetTokenizer\n",
        "from nltk.corpus import stopwords\n",
        "nltk.download('punkt')\n",
        "nltk.download('punkt')\n",
        "nltk.download('wordnet')\n",
        "nltk.download('omw-1.4')\n",
        "nltk.download('stopwords')\n",
        "from sklearn.model_selection import train_test_split\n",
        "import seaborn as sns\n",
        "from sklearn.metrics import accuracy_score, confusion_matrix, classification_report\n",
        "import matplotlib.pyplot as plt\n",
        "from sklearn.tree import DecisionTreeClassifier"
      ]
    },
    {
      "cell_type": "code",
      "source": [
        "data = pd.read_csv(\"train.csv\")\n",
        "print(data.head())"
      ],
      "metadata": {
        "colab": {
          "base_uri": "https://localhost:8080/"
        },
        "id": "dCgvyeZjhA0F",
        "outputId": "840122a5-36a3-4889-e6c8-133f518c46f1"
      },
      "execution_count": 2,
      "outputs": [
        {
          "output_type": "stream",
          "name": "stdout",
          "text": [
            "      id                                              tweet label\n",
            "0  86426  @USER She should ask a few native Americans wh...   UNT\n",
            "1  90194  @USER @USER Go home you’re drunk!!! @USER #MAG...   TIN\n",
            "2  16820  Amazon is investigating Chinese employees who ...   NOT\n",
            "3  62688  @USER Someone should'veTaken\" this piece of sh...   UNT\n",
            "4  43605  @USER @USER Obama wanted liberals &amp; illega...   NOT\n"
          ]
        }
      ]
    },
    {
      "cell_type": "code",
      "source": [
        "#data visualization\n",
        "sns.countplot(x=data['label'])"
      ],
      "metadata": {
        "colab": {
          "base_uri": "https://localhost:8080/",
          "height": 466
        },
        "id": "FKehcn0lhTkZ",
        "outputId": "1f964e7b-e2f4-4bf0-8217-aa32d6c28951"
      },
      "execution_count": 3,
      "outputs": [
        {
          "output_type": "execute_result",
          "data": {
            "text/plain": [
              "<Axes: xlabel='label', ylabel='count'>"
            ]
          },
          "metadata": {},
          "execution_count": 3
        },
        {
          "output_type": "display_data",
          "data": {
            "text/plain": [
              "<Figure size 640x480 with 1 Axes>"
            ],
            "image/png": "[encoded data removed]"
          },
          "metadata": {}
        }
      ]
    },
    {
      "cell_type": "code",
      "source": [
        "# Checking if there is any null values in dataset\n",
        "x = data.isnull().sum()\n",
        "y = (data.isnull().sum()/data.shape[0])*100\n",
        "z = {'total number of missing values':x,'percentage of missing values':y}\n",
        "df = pd.DataFrame(z,columns=['total number of missing values','percentage of missing values'])\n",
        "df.sort_values(by='percentage of missing values', ascending=False)\n",
        "print(df)"
      ],
      "metadata": {
        "colab": {
          "base_uri": "https://localhost:8080/"
        },
        "id": "1G8HidJWjklI",
        "outputId": "26857a7d-b7c5-4ebd-996b-5ca9bdd4df27"
      },
      "execution_count": 4,
      "outputs": [
        {
          "output_type": "stream",
          "name": "stdout",
          "text": [
            "       total number of missing values  percentage of missing values\n",
            "id                                  0                           0.0\n",
            "tweet                               0                           0.0\n",
            "label                               0                           0.0\n"
          ]
        }
      ]
    },
    {
      "cell_type": "code",
      "source": [
        "def preprocess_text(text):\n",
        "    text = re.sub(r'[^a-zA-Z\\s]', '', text)\n",
        "    text_lower = text.lower()\n",
        "    text_tokens = word_tokenize(text_lower)\n",
        "    text_sentence = ' '.join(text_tokens)\n",
        "    tknzr = TweetTokenizer(preserve_case=False, reduce_len=True, strip_handles=True)\n",
        "    tweet_tokens = tknzr.tokenize(text_sentence)\n",
        "    tokens_without_stopwords = [word for word in tweet_tokens if word not in stopwords.words('english')]\n",
        "    preprocessed_t = ' '.join(tokens_without_stopwords)\n",
        "    return preprocessed_t\n",
        "\n"
      ],
      "metadata": {
        "id": "yHO7mPZWpPQ3"
      },
      "execution_count": 5,
      "outputs": []
    },
    {
      "cell_type": "code",
      "source": [
        "data['tweet_clean'] = data['tweet'].apply(preprocess_text)"
      ],
      "metadata": {
        "id": "DgooW3iXxKLX"
      },
      "execution_count": 6,
      "outputs": []
    },
    {
      "cell_type": "code",
      "source": [
        "print(data['tweet_clean'].head())"
      ],
      "metadata": {
        "colab": {
          "base_uri": "https://localhost:8080/"
        },
        "id": "2zHFFQlHrrIa",
        "outputId": "b78b95d7-cccb-48b5-e5c0-766f37ca7cfa"
      },
      "execution_count": 7,
      "outputs": [
        {
          "output_type": "stream",
          "name": "stdout",
          "text": [
            "0                       user ask native americans take\n",
            "1    user user go home youre drunk user maga trump url\n",
            "2    amazon investigating chinese employees selling...\n",
            "3        user someone shouldvetaken piece shit volcano\n",
            "4    user user obama wanted liberals amp illegals m...\n",
            "Name: tweet_clean, dtype: object\n"
          ]
        }
      ]
    },
    {
      "cell_type": "code",
      "source": [
        "from sklearn.linear_model import LogisticRegression\n",
        "from sklearn.metrics import accuracy_score\n",
        "\n",
        "tfidf_vector = TfidfVectorizer()\n",
        "x=tfidf_vector.fit_transform(data['tweet_clean'])\n",
        "\n",
        "x_train,x_val,y_train,y_val = train_test_split(x,data['label'], test_size=0.2,random_state=42)\n",
        "logistic_regression = LogisticRegression(max_iter=10000)\n",
        "logistic_regression.fit(x_train,y_train)\n",
        "\n",
        "y_pred = logistic_regression.predict(x_val)\n",
        "\n",
        "class_report = classification_report(y_val, y_pred)\n",
        "\n",
        "accuracy_logistic = accuracy_score(y_val, y_pred)\n",
        "print(\"Classification Report using Logistic Regression\", class_report)\n",
        "print(\"Accuracy of logistic regression =\",accuracy_logistic)\n",
        "\n",
        "cm = confusion_matrix(y_val, y_pred, labels=data['label'].unique())\n",
        "\n",
        "plt.figure(figsize=(8, 6))\n",
        "sns.heatmap(cm, annot=True, fmt=\"d\", cmap=\"Blues\", xticklabels=data['label'].unique(), yticklabels=data['label'].unique())\n",
        "plt.title('Confusion Matrix')\n",
        "plt.xlabel('Predicted')\n",
        "plt.ylabel('Actual')\n",
        "plt.show()"
      ],
      "metadata": {
        "colab": {
          "base_uri": "https://localhost:8080/",
          "height": 775
        },
        "id": "PPB_X_p6smPk",
        "outputId": "620c2093-5aa7-4afc-b238-a863e2ef6af7"
      },
      "execution_count": 8,
      "outputs": [
        {
          "output_type": "stream",
          "name": "stdout",
          "text": [
            "Classification Report using Logistic Regression               precision    recall  f1-score   support\n",
            "\n",
            "         NOT       0.74      0.95      0.83      1733\n",
            "         TIN       0.70      0.37      0.49       792\n",
            "         UNT       0.40      0.02      0.03       123\n",
            "\n",
            "    accuracy                           0.73      2648\n",
            "   macro avg       0.61      0.45      0.45      2648\n",
            "weighted avg       0.71      0.73      0.69      2648\n",
            "\n",
            "Accuracy of logistic regression = 0.7348942598187311\n"
          ]
        },
        {
          "output_type": "display_data",
          "data": {
            "text/plain": [
              "<Figure size 800x600 with 2 Axes>"
            ],
            "image/png": "[encoded data removed]"
          },
          "metadata": {}
        }
      ]
    },
    {
      "cell_type": "code",
      "source": [
        "# Now using test dataset for prediction\n",
        "predict_data = pd.read_csv('test.csv')\n",
        "X_test = tfidf_vector.transform(predict_data['tweet'])\n",
        "predictions = logistic_regression.predict(X_test)\n",
        "predict_data['Prediction'] = predictions\n",
        "predict_data.to_csv('Result_Logistic.csv', index=False)\n",
        "#predict_data.to_csv('/prediction_output.csv', index=False)\n",
        "print(predictions)"
      ],
      "metadata": {
        "id": "HIxRIqS-tlkB",
        "colab": {
          "base_uri": "https://localhost:8080/"
        },
        "outputId": "e82123a3-dfb1-4ce3-9b90-49c9a6851ab7"
      },
      "execution_count": 9,
      "outputs": [
        {
          "output_type": "stream",
          "name": "stdout",
          "text": [
            "['TIN' 'NOT' 'NOT' 'NOT' 'NOT' 'TIN' 'NOT' 'NOT' 'NOT' 'NOT' 'NOT' 'NOT'\n",
            " 'NOT' 'NOT' 'TIN' 'TIN' 'NOT' 'NOT' 'NOT' 'NOT' 'NOT' 'NOT' 'NOT' 'NOT'\n",
            " 'NOT' 'NOT' 'NOT' 'NOT' 'NOT' 'TIN' 'NOT' 'NOT' 'NOT' 'NOT' 'NOT' 'NOT'\n",
            " 'NOT' 'NOT' 'TIN' 'TIN' 'TIN' 'NOT' 'NOT' 'NOT' 'NOT' 'NOT' 'NOT' 'NOT'\n",
            " 'NOT' 'NOT' 'NOT' 'TIN' 'NOT' 'NOT' 'NOT' 'NOT' 'NOT' 'NOT' 'TIN' 'TIN'\n",
            " 'TIN' 'NOT' 'NOT' 'TIN' 'NOT' 'NOT' 'NOT' 'NOT' 'NOT' 'NOT' 'NOT' 'NOT'\n",
            " 'NOT' 'NOT' 'NOT' 'NOT' 'NOT' 'NOT' 'NOT' 'NOT' 'NOT' 'TIN' 'NOT' 'NOT'\n",
            " 'NOT' 'TIN' 'NOT' 'TIN' 'NOT' 'NOT' 'NOT' 'NOT' 'NOT' 'NOT' 'NOT' 'NOT'\n",
            " 'NOT' 'NOT' 'NOT' 'NOT' 'TIN' 'NOT' 'NOT' 'NOT' 'NOT' 'NOT' 'NOT' 'NOT'\n",
            " 'NOT' 'NOT' 'NOT' 'NOT' 'NOT' 'NOT' 'NOT' 'NOT' 'NOT' 'NOT' 'NOT' 'NOT'\n",
            " 'NOT' 'NOT' 'NOT' 'NOT' 'NOT' 'NOT' 'NOT' 'NOT' 'NOT' 'NOT' 'NOT' 'NOT'\n",
            " 'NOT' 'NOT' 'NOT' 'NOT' 'NOT' 'NOT' 'NOT' 'NOT' 'NOT' 'NOT' 'NOT' 'NOT'\n",
            " 'NOT' 'NOT' 'NOT' 'NOT' 'NOT' 'NOT' 'NOT' 'NOT' 'NOT' 'TIN' 'TIN' 'NOT'\n",
            " 'TIN' 'NOT' 'NOT' 'NOT' 'NOT' 'NOT' 'NOT' 'NOT' 'NOT' 'NOT' 'NOT' 'NOT'\n",
            " 'NOT' 'NOT' 'NOT' 'NOT' 'NOT' 'NOT' 'NOT' 'NOT' 'NOT' 'NOT' 'NOT' 'NOT'\n",
            " 'TIN' 'NOT' 'TIN' 'NOT' 'NOT' 'NOT' 'TIN' 'NOT' 'NOT' 'NOT' 'NOT' 'NOT'\n",
            " 'NOT' 'NOT' 'NOT' 'NOT' 'TIN' 'NOT' 'NOT' 'NOT' 'NOT' 'TIN' 'NOT' 'NOT'\n",
            " 'NOT' 'NOT' 'NOT' 'TIN' 'NOT' 'NOT' 'NOT' 'NOT' 'NOT' 'NOT' 'NOT' 'NOT'\n",
            " 'TIN' 'NOT' 'NOT' 'NOT' 'NOT' 'NOT' 'NOT' 'NOT' 'NOT' 'NOT' 'NOT' 'TIN'\n",
            " 'NOT' 'TIN' 'TIN' 'NOT' 'NOT' 'NOT' 'NOT' 'NOT' 'NOT' 'NOT' 'NOT' 'NOT'\n",
            " 'NOT' 'TIN' 'NOT' 'NOT' 'NOT' 'NOT' 'NOT' 'NOT' 'NOT' 'TIN' 'NOT' 'NOT'\n",
            " 'NOT' 'NOT' 'NOT' 'NOT' 'NOT' 'NOT' 'NOT' 'TIN' 'NOT' 'NOT' 'TIN' 'NOT'\n",
            " 'NOT' 'NOT' 'NOT' 'NOT' 'NOT' 'NOT' 'NOT' 'NOT' 'NOT' 'NOT' 'NOT' 'NOT'\n",
            " 'NOT' 'NOT' 'NOT' 'NOT' 'NOT' 'NOT' 'NOT' 'NOT' 'NOT' 'NOT' 'NOT' 'NOT'\n",
            " 'NOT' 'NOT' 'NOT' 'NOT' 'NOT' 'NOT' 'NOT' 'NOT' 'NOT' 'NOT' 'NOT' 'NOT'\n",
            " 'NOT' 'NOT' 'NOT' 'NOT' 'NOT' 'NOT' 'NOT' 'NOT' 'NOT' 'TIN' 'TIN' 'NOT'\n",
            " 'NOT' 'NOT' 'NOT' 'NOT' 'NOT' 'NOT' 'NOT' 'NOT' 'NOT' 'TIN' 'NOT' 'NOT'\n",
            " 'NOT' 'NOT' 'NOT' 'TIN' 'NOT' 'NOT' 'NOT' 'NOT' 'TIN' 'TIN' 'UNT' 'TIN'\n",
            " 'NOT' 'NOT' 'NOT' 'TIN' 'TIN' 'NOT' 'NOT' 'TIN' 'TIN' 'NOT' 'TIN' 'TIN'\n",
            " 'NOT' 'TIN' 'TIN' 'NOT' 'NOT' 'TIN' 'TIN' 'TIN' 'NOT' 'NOT' 'NOT' 'NOT'\n",
            " 'NOT' 'NOT' 'TIN' 'NOT' 'NOT' 'TIN' 'TIN' 'NOT' 'TIN' 'NOT' 'NOT' 'TIN'\n",
            " 'NOT' 'TIN' 'NOT' 'NOT' 'NOT' 'TIN' 'NOT' 'NOT' 'NOT' 'TIN' 'TIN' 'TIN'\n",
            " 'NOT' 'NOT' 'NOT' 'NOT' 'TIN' 'NOT' 'NOT' 'NOT' 'NOT' 'NOT' 'NOT' 'NOT'\n",
            " 'TIN' 'NOT' 'NOT' 'TIN' 'TIN' 'TIN' 'NOT' 'TIN' 'NOT' 'NOT' 'NOT' 'TIN'\n",
            " 'NOT' 'NOT' 'NOT' 'NOT' 'NOT' 'NOT' 'TIN' 'NOT' 'NOT' 'TIN' 'TIN' 'NOT'\n",
            " 'NOT' 'NOT' 'TIN' 'NOT' 'TIN' 'NOT' 'TIN' 'NOT' 'TIN' 'NOT' 'NOT' 'TIN'\n",
            " 'TIN' 'NOT' 'TIN' 'NOT' 'TIN' 'NOT' 'NOT' 'NOT' 'NOT' 'TIN' 'NOT' 'TIN'\n",
            " 'TIN' 'NOT' 'NOT' 'TIN' 'TIN' 'NOT' 'NOT' 'TIN' 'NOT' 'NOT' 'TIN' 'NOT'\n",
            " 'TIN' 'TIN' 'NOT' 'NOT']\n"
          ]
        }
      ]
    },
    {
      "cell_type": "code",
      "source": [
        "# now checking with another model naive_bayes\n",
        "from sklearn.naive_bayes import MultinomialNB\n",
        "naive_tfide = TfidfVectorizer()\n",
        "x_n = naive_tfide.fit_transform(data['tweet_clean'])\n",
        "\n",
        "x_train_n,x_val_n,y_train_n,y_val_n = train_test_split(x_n,data['label'],test_size=0.4, random_state=100)\n",
        "\n",
        "naive_bayes_model = MultinomialNB()\n",
        "naive_bayes_model.fit(x_train_n,y_train_n)\n",
        "\n",
        "y_predict = naive_bayes_model.predict(x_val_n)\n",
        "naive_bayes_model_classification = classification_report(y_val_n, y_predict)\n",
        "accuracy_naive_byes = accuracy_score(y_val_n, y_predict)\n",
        "\n",
        "print(\"Classification Report using Logistic Regression\")\n",
        "print(naive_bayes_model_classification)\n",
        "print(\"Accuracy of logistic regression =\",accuracy_naive_byes)\n",
        "print(\" \")\n",
        "\n",
        "cm = confusion_matrix(y_val_n, y_predict, labels=data['label'].unique())\n",
        "\n",
        "plt.figure(figsize=(8, 6))\n",
        "sns.heatmap(cm, annot=True, fmt=\"d\", cmap=\"Blues\", xticklabels=data['label'].unique(), yticklabels=data['label'].unique())\n",
        "plt.title('Confusion Matrix')\n",
        "plt.xlabel('Predicted')\n",
        "plt.ylabel('Actual')\n",
        "plt.show()"
      ],
      "metadata": {
        "id": "4rV-FuwX2YzZ",
        "colab": {
          "base_uri": "https://localhost:8080/",
          "height": 914
        },
        "outputId": "70563e5d-08c8-4cba-d639-b777cc7d10a7"
      },
      "execution_count": 10,
      "outputs": [
        {
          "output_type": "stream",
          "name": "stderr",
          "text": [
            "/usr/local/lib/python3.10/dist-packages/sklearn/metrics/_classification.py:1344: UndefinedMetricWarning: Precision and F-score are ill-defined and being set to 0.0 in labels with no predicted samples. Use `zero_division` parameter to control this behavior.\n",
            "  _warn_prf(average, modifier, msg_start, len(result))\n",
            "/usr/local/lib/python3.10/dist-packages/sklearn/metrics/_classification.py:1344: UndefinedMetricWarning: Precision and F-score are ill-defined and being set to 0.0 in labels with no predicted samples. Use `zero_division` parameter to control this behavior.\n",
            "  _warn_prf(average, modifier, msg_start, len(result))\n",
            "/usr/local/lib/python3.10/dist-packages/sklearn/metrics/_classification.py:1344: UndefinedMetricWarning: Precision and F-score are ill-defined and being set to 0.0 in labels with no predicted samples. Use `zero_division` parameter to control this behavior.\n",
            "  _warn_prf(average, modifier, msg_start, len(result))\n"
          ]
        },
        {
          "output_type": "stream",
          "name": "stdout",
          "text": [
            "Classification Report using Logistic Regression\n",
            "              precision    recall  f1-score   support\n",
            "\n",
            "         NOT       0.68      1.00      0.81      3533\n",
            "         TIN       0.79      0.07      0.13      1548\n",
            "         UNT       0.00      0.00      0.00       215\n",
            "\n",
            "    accuracy                           0.69      5296\n",
            "   macro avg       0.49      0.36      0.31      5296\n",
            "weighted avg       0.69      0.69      0.58      5296\n",
            "\n",
            "Accuracy of logistic regression = 0.6867447129909365\n",
            " \n"
          ]
        },
        {
          "output_type": "display_data",
          "data": {
            "text/plain": [
              "<Figure size 800x600 with 2 Axes>"
            ],
            "image/png": "[encoded data removed]"
          },
          "metadata": {}
        }
      ]
    },
    {
      "cell_type": "code",
      "source": [
        "# Now using test dataset for prediction\n",
        "predict_data = pd.read_csv('test.csv')\n",
        "X_test = naive_tfide.transform(predict_data['tweet'])\n",
        "predictions_naive_bayes = naive_bayes_model.predict(X_test)\n",
        "predict_data['Prediction_naive_bayes'] = predictions_naive_bayes\n",
        "predict_data.to_csv('naive_bayes_model.csv', index=False)\n",
        "#predict_data.to_csv('/prediction_output.csv', index=False)\n",
        "print(predictions_naive_bayes)"
      ],
      "metadata": {
        "id": "6UqiTNg_41HV",
        "colab": {
          "base_uri": "https://localhost:8080/"
        },
        "outputId": "c61db56a-ec74-4f79-9284-2d0dcb1a7a62"
      },
      "execution_count": 11,
      "outputs": [
        {
          "output_type": "stream",
          "name": "stdout",
          "text": [
            "['NOT' 'NOT' 'NOT' 'NOT' 'NOT' 'TIN' 'NOT' 'NOT' 'NOT' 'NOT' 'NOT' 'NOT'\n",
            " 'NOT' 'NOT' 'NOT' 'NOT' 'NOT' 'NOT' 'NOT' 'NOT' 'NOT' 'NOT' 'NOT' 'NOT'\n",
            " 'NOT' 'NOT' 'NOT' 'NOT' 'NOT' 'NOT' 'NOT' 'NOT' 'NOT' 'NOT' 'NOT' 'NOT'\n",
            " 'NOT' 'NOT' 'TIN' 'TIN' 'TIN' 'NOT' 'NOT' 'NOT' 'NOT' 'NOT' 'NOT' 'NOT'\n",
            " 'NOT' 'NOT' 'NOT' 'NOT' 'NOT' 'NOT' 'NOT' 'NOT' 'NOT' 'NOT' 'NOT' 'NOT'\n",
            " 'NOT' 'NOT' 'NOT' 'NOT' 'NOT' 'NOT' 'NOT' 'NOT' 'NOT' 'NOT' 'NOT' 'NOT'\n",
            " 'NOT' 'NOT' 'NOT' 'NOT' 'NOT' 'NOT' 'NOT' 'NOT' 'NOT' 'NOT' 'NOT' 'NOT'\n",
            " 'NOT' 'NOT' 'NOT' 'NOT' 'NOT' 'NOT' 'NOT' 'NOT' 'NOT' 'NOT' 'NOT' 'NOT'\n",
            " 'NOT' 'NOT' 'NOT' 'NOT' 'NOT' 'NOT' 'NOT' 'NOT' 'NOT' 'NOT' 'NOT' 'NOT'\n",
            " 'NOT' 'NOT' 'NOT' 'NOT' 'NOT' 'NOT' 'NOT' 'NOT' 'NOT' 'NOT' 'NOT' 'NOT'\n",
            " 'NOT' 'NOT' 'NOT' 'NOT' 'NOT' 'NOT' 'NOT' 'NOT' 'NOT' 'NOT' 'NOT' 'NOT'\n",
            " 'NOT' 'NOT' 'NOT' 'NOT' 'NOT' 'NOT' 'NOT' 'NOT' 'NOT' 'NOT' 'NOT' 'NOT'\n",
            " 'NOT' 'NOT' 'NOT' 'NOT' 'NOT' 'NOT' 'NOT' 'NOT' 'NOT' 'NOT' 'NOT' 'NOT'\n",
            " 'NOT' 'NOT' 'NOT' 'NOT' 'NOT' 'NOT' 'NOT' 'NOT' 'NOT' 'NOT' 'NOT' 'NOT'\n",
            " 'NOT' 'NOT' 'NOT' 'NOT' 'NOT' 'NOT' 'NOT' 'NOT' 'NOT' 'NOT' 'NOT' 'NOT'\n",
            " 'NOT' 'NOT' 'NOT' 'NOT' 'NOT' 'NOT' 'NOT' 'NOT' 'NOT' 'NOT' 'NOT' 'NOT'\n",
            " 'NOT' 'NOT' 'NOT' 'NOT' 'NOT' 'NOT' 'NOT' 'NOT' 'NOT' 'NOT' 'NOT' 'NOT'\n",
            " 'NOT' 'NOT' 'NOT' 'NOT' 'NOT' 'NOT' 'NOT' 'NOT' 'NOT' 'NOT' 'NOT' 'NOT'\n",
            " 'NOT' 'NOT' 'NOT' 'NOT' 'NOT' 'NOT' 'NOT' 'NOT' 'NOT' 'NOT' 'NOT' 'NOT'\n",
            " 'NOT' 'NOT' 'NOT' 'NOT' 'NOT' 'NOT' 'NOT' 'NOT' 'NOT' 'NOT' 'NOT' 'NOT'\n",
            " 'NOT' 'NOT' 'NOT' 'NOT' 'NOT' 'NOT' 'NOT' 'NOT' 'NOT' 'NOT' 'NOT' 'NOT'\n",
            " 'NOT' 'NOT' 'NOT' 'NOT' 'NOT' 'NOT' 'NOT' 'TIN' 'NOT' 'NOT' 'NOT' 'NOT'\n",
            " 'NOT' 'NOT' 'NOT' 'NOT' 'NOT' 'NOT' 'NOT' 'NOT' 'NOT' 'NOT' 'NOT' 'NOT'\n",
            " 'NOT' 'NOT' 'NOT' 'NOT' 'NOT' 'NOT' 'NOT' 'NOT' 'NOT' 'NOT' 'NOT' 'NOT'\n",
            " 'NOT' 'NOT' 'NOT' 'NOT' 'NOT' 'NOT' 'NOT' 'NOT' 'NOT' 'NOT' 'NOT' 'NOT'\n",
            " 'NOT' 'NOT' 'NOT' 'NOT' 'NOT' 'NOT' 'NOT' 'NOT' 'NOT' 'NOT' 'NOT' 'NOT'\n",
            " 'NOT' 'NOT' 'NOT' 'NOT' 'NOT' 'NOT' 'NOT' 'NOT' 'NOT' 'NOT' 'NOT' 'NOT'\n",
            " 'NOT' 'NOT' 'NOT' 'NOT' 'NOT' 'NOT' 'NOT' 'NOT' 'TIN' 'NOT' 'NOT' 'NOT'\n",
            " 'NOT' 'NOT' 'NOT' 'NOT' 'NOT' 'NOT' 'NOT' 'NOT' 'NOT' 'NOT' 'NOT' 'NOT'\n",
            " 'NOT' 'NOT' 'NOT' 'NOT' 'NOT' 'NOT' 'NOT' 'NOT' 'NOT' 'NOT' 'NOT' 'NOT'\n",
            " 'NOT' 'NOT' 'TIN' 'NOT' 'NOT' 'TIN' 'NOT' 'NOT' 'NOT' 'NOT' 'NOT' 'NOT'\n",
            " 'NOT' 'NOT' 'NOT' 'NOT' 'NOT' 'NOT' 'NOT' 'NOT' 'NOT' 'NOT' 'NOT' 'TIN'\n",
            " 'NOT' 'NOT' 'NOT' 'NOT' 'NOT' 'NOT' 'NOT' 'NOT' 'NOT' 'NOT' 'NOT' 'NOT'\n",
            " 'NOT' 'NOT' 'NOT' 'NOT' 'NOT' 'NOT' 'NOT' 'TIN' 'NOT' 'NOT' 'NOT' 'NOT'\n",
            " 'NOT' 'NOT' 'NOT' 'NOT' 'NOT' 'NOT' 'TIN' 'NOT' 'NOT' 'TIN' 'TIN' 'NOT'\n",
            " 'NOT' 'NOT' 'TIN' 'NOT' 'NOT' 'NOT' 'NOT' 'NOT' 'NOT' 'NOT' 'NOT' 'TIN'\n",
            " 'NOT' 'NOT' 'NOT' 'NOT' 'NOT' 'NOT' 'NOT' 'NOT' 'NOT' 'NOT' 'NOT' 'TIN'\n",
            " 'NOT' 'NOT' 'NOT' 'TIN' 'NOT' 'NOT' 'NOT' 'NOT' 'NOT' 'NOT' 'NOT' 'TIN'\n",
            " 'NOT' 'NOT' 'NOT' 'NOT']\n"
          ]
        }
      ]
    },
    {
      "cell_type": "code",
      "source": [
        "decision_tree_tfidf = TfidfVectorizer()\n",
        "x_d = decision_tree_tfidf.fit_transform(data['tweet_clean'])\n",
        "\n",
        "x_train_d,x_val_d,y_train_d,y_val_d = train_test_split(x_d,data['label'], test_size=0.4,random_state=67)\n",
        "\n",
        "decision_tree_model = DecisionTreeClassifier()\n",
        "naive_bayes_model.fit(x_train_d,y_train_d)\n",
        "\n",
        "y_predict_d = naive_bayes_model.predict(x_val_d)\n",
        "decision_model_classification = classification_report(y_val_d, y_predict_d)\n",
        "accuracy_decision_tree = accuracy_score(y_val_d, y_predict_d)\n",
        "\n",
        "print(\"Classification Report Using Decision Tree Classifier\")\n",
        "print(decision_model_classification)\n",
        "print(\"Accuracy of Decision Tree Classifier =\",accuracy_decision_tree)\n",
        "print(\" \")\n",
        "\n",
        "cm = confusion_matrix(y_val_d, y_predict_d, labels=data['label'].unique())\n",
        "\n",
        "plt.figure(figsize=(8, 6))\n",
        "sns.heatmap(cm, annot=True, fmt=\"d\", cmap=\"Blues\", xticklabels=data['label'].unique(), yticklabels=data['label'].unique())\n",
        "plt.title('Confusion Matrix')\n",
        "plt.xlabel('Predicted')\n",
        "plt.ylabel('Actual')\n",
        "plt.show()"
      ],
      "metadata": {
        "id": "nswV1_p96fbU",
        "colab": {
          "base_uri": "https://localhost:8080/",
          "height": 914
        },
        "outputId": "6f9adc66-6979-4ecc-c8da-a72504bccf06"
      },
      "execution_count": 12,
      "outputs": [
        {
          "output_type": "stream",
          "name": "stderr",
          "text": [
            "/usr/local/lib/python3.10/dist-packages/sklearn/metrics/_classification.py:1344: UndefinedMetricWarning: Precision and F-score are ill-defined and being set to 0.0 in labels with no predicted samples. Use `zero_division` parameter to control this behavior.\n",
            "  _warn_prf(average, modifier, msg_start, len(result))\n",
            "/usr/local/lib/python3.10/dist-packages/sklearn/metrics/_classification.py:1344: UndefinedMetricWarning: Precision and F-score are ill-defined and being set to 0.0 in labels with no predicted samples. Use `zero_division` parameter to control this behavior.\n",
            "  _warn_prf(average, modifier, msg_start, len(result))\n",
            "/usr/local/lib/python3.10/dist-packages/sklearn/metrics/_classification.py:1344: UndefinedMetricWarning: Precision and F-score are ill-defined and being set to 0.0 in labels with no predicted samples. Use `zero_division` parameter to control this behavior.\n",
            "  _warn_prf(average, modifier, msg_start, len(result))\n"
          ]
        },
        {
          "output_type": "stream",
          "name": "stdout",
          "text": [
            "Classification Report Using Decision Tree Classifier\n",
            "              precision    recall  f1-score   support\n",
            "\n",
            "         NOT       0.69      1.00      0.81      3539\n",
            "         TIN       0.77      0.08      0.14      1555\n",
            "         UNT       0.00      0.00      0.00       202\n",
            "\n",
            "    accuracy                           0.69      5296\n",
            "   macro avg       0.49      0.36      0.32      5296\n",
            "weighted avg       0.68      0.69      0.59      5296\n",
            "\n",
            "Accuracy of Decision Tree Classifier = 0.6890105740181269\n",
            " \n"
          ]
        },
        {
          "output_type": "display_data",
          "data": {
            "text/plain": [
              "<Figure size 800x600 with 2 Axes>"
            ],
            "image/png": "[encoded data removed]"
          },
          "metadata": {}
        }
      ]
    },
    {
      "cell_type": "code",
      "source": [
        "# Now using test dataset for prediction\n",
        "predict_data = pd.read_csv('test.csv')\n",
        "X_test = naive_tfide.transform(predict_data['tweet'])\n",
        "predictions_decision_tree = naive_bayes_model.predict(X_test)\n",
        "predict_data['Prediction_decision_tree'] = predictions_decision_tree\n",
        "predict_data.to_csv('decision_tree_model.csv', index=False)\n",
        "#predict_data.to_csv('/prediction_output.csv', index=False)\n",
        "print(predictions_naive_bayes)"
      ],
      "metadata": {
        "id": "h8pHk5MN8k4q",
        "colab": {
          "base_uri": "https://localhost:8080/"
        },
        "outputId": "f0b97bc2-522a-46a2-9d9e-89d986711b64"
      },
      "execution_count": 13,
      "outputs": [
        {
          "output_type": "stream",
          "name": "stdout",
          "text": [
            "['NOT' 'NOT' 'NOT' 'NOT' 'NOT' 'TIN' 'NOT' 'NOT' 'NOT' 'NOT' 'NOT' 'NOT'\n",
            " 'NOT' 'NOT' 'NOT' 'NOT' 'NOT' 'NOT' 'NOT' 'NOT' 'NOT' 'NOT' 'NOT' 'NOT'\n",
            " 'NOT' 'NOT' 'NOT' 'NOT' 'NOT' 'NOT' 'NOT' 'NOT' 'NOT' 'NOT' 'NOT' 'NOT'\n",
            " 'NOT' 'NOT' 'TIN' 'TIN' 'TIN' 'NOT' 'NOT' 'NOT' 'NOT' 'NOT' 'NOT' 'NOT'\n",
            " 'NOT' 'NOT' 'NOT' 'NOT' 'NOT' 'NOT' 'NOT' 'NOT' 'NOT' 'NOT' 'NOT' 'NOT'\n",
            " 'NOT' 'NOT' 'NOT' 'NOT' 'NOT' 'NOT' 'NOT' 'NOT' 'NOT' 'NOT' 'NOT' 'NOT'\n",
            " 'NOT' 'NOT' 'NOT' 'NOT' 'NOT' 'NOT' 'NOT' 'NOT' 'NOT' 'NOT' 'NOT' 'NOT'\n",
            " 'NOT' 'NOT' 'NOT' 'NOT' 'NOT' 'NOT' 'NOT' 'NOT' 'NOT' 'NOT' 'NOT' 'NOT'\n",
            " 'NOT' 'NOT' 'NOT' 'NOT' 'NOT' 'NOT' 'NOT' 'NOT' 'NOT' 'NOT' 'NOT' 'NOT'\n",
            " 'NOT' 'NOT' 'NOT' 'NOT' 'NOT' 'NOT' 'NOT' 'NOT' 'NOT' 'NOT' 'NOT' 'NOT'\n",
            " 'NOT' 'NOT' 'NOT' 'NOT' 'NOT' 'NOT' 'NOT' 'NOT' 'NOT' 'NOT' 'NOT' 'NOT'\n",
            " 'NOT' 'NOT' 'NOT' 'NOT' 'NOT' 'NOT' 'NOT' 'NOT' 'NOT' 'NOT' 'NOT' 'NOT'\n",
            " 'NOT' 'NOT' 'NOT' 'NOT' 'NOT' 'NOT' 'NOT' 'NOT' 'NOT' 'NOT' 'NOT' 'NOT'\n",
            " 'NOT' 'NOT' 'NOT' 'NOT' 'NOT' 'NOT' 'NOT' 'NOT' 'NOT' 'NOT' 'NOT' 'NOT'\n",
            " 'NOT' 'NOT' 'NOT' 'NOT' 'NOT' 'NOT' 'NOT' 'NOT' 'NOT' 'NOT' 'NOT' 'NOT'\n",
            " 'NOT' 'NOT' 'NOT' 'NOT' 'NOT' 'NOT' 'NOT' 'NOT' 'NOT' 'NOT' 'NOT' 'NOT'\n",
            " 'NOT' 'NOT' 'NOT' 'NOT' 'NOT' 'NOT' 'NOT' 'NOT' 'NOT' 'NOT' 'NOT' 'NOT'\n",
            " 'NOT' 'NOT' 'NOT' 'NOT' 'NOT' 'NOT' 'NOT' 'NOT' 'NOT' 'NOT' 'NOT' 'NOT'\n",
            " 'NOT' 'NOT' 'NOT' 'NOT' 'NOT' 'NOT' 'NOT' 'NOT' 'NOT' 'NOT' 'NOT' 'NOT'\n",
            " 'NOT' 'NOT' 'NOT' 'NOT' 'NOT' 'NOT' 'NOT' 'NOT' 'NOT' 'NOT' 'NOT' 'NOT'\n",
            " 'NOT' 'NOT' 'NOT' 'NOT' 'NOT' 'NOT' 'NOT' 'NOT' 'NOT' 'NOT' 'NOT' 'NOT'\n",
            " 'NOT' 'NOT' 'NOT' 'NOT' 'NOT' 'NOT' 'NOT' 'TIN' 'NOT' 'NOT' 'NOT' 'NOT'\n",
            " 'NOT' 'NOT' 'NOT' 'NOT' 'NOT' 'NOT' 'NOT' 'NOT' 'NOT' 'NOT' 'NOT' 'NOT'\n",
            " 'NOT' 'NOT' 'NOT' 'NOT' 'NOT' 'NOT' 'NOT' 'NOT' 'NOT' 'NOT' 'NOT' 'NOT'\n",
            " 'NOT' 'NOT' 'NOT' 'NOT' 'NOT' 'NOT' 'NOT' 'NOT' 'NOT' 'NOT' 'NOT' 'NOT'\n",
            " 'NOT' 'NOT' 'NOT' 'NOT' 'NOT' 'NOT' 'NOT' 'NOT' 'NOT' 'NOT' 'NOT' 'NOT'\n",
            " 'NOT' 'NOT' 'NOT' 'NOT' 'NOT' 'NOT' 'NOT' 'NOT' 'NOT' 'NOT' 'NOT' 'NOT'\n",
            " 'NOT' 'NOT' 'NOT' 'NOT' 'NOT' 'NOT' 'NOT' 'NOT' 'TIN' 'NOT' 'NOT' 'NOT'\n",
            " 'NOT' 'NOT' 'NOT' 'NOT' 'NOT' 'NOT' 'NOT' 'NOT' 'NOT' 'NOT' 'NOT' 'NOT'\n",
            " 'NOT' 'NOT' 'NOT' 'NOT' 'NOT' 'NOT' 'NOT' 'NOT' 'NOT' 'NOT' 'NOT' 'NOT'\n",
            " 'NOT' 'NOT' 'TIN' 'NOT' 'NOT' 'TIN' 'NOT' 'NOT' 'NOT' 'NOT' 'NOT' 'NOT'\n",
            " 'NOT' 'NOT' 'NOT' 'NOT' 'NOT' 'NOT' 'NOT' 'NOT' 'NOT' 'NOT' 'NOT' 'TIN'\n",
            " 'NOT' 'NOT' 'NOT' 'NOT' 'NOT' 'NOT' 'NOT' 'NOT' 'NOT' 'NOT' 'NOT' 'NOT'\n",
            " 'NOT' 'NOT' 'NOT' 'NOT' 'NOT' 'NOT' 'NOT' 'TIN' 'NOT' 'NOT' 'NOT' 'NOT'\n",
            " 'NOT' 'NOT' 'NOT' 'NOT' 'NOT' 'NOT' 'TIN' 'NOT' 'NOT' 'TIN' 'TIN' 'NOT'\n",
            " 'NOT' 'NOT' 'TIN' 'NOT' 'NOT' 'NOT' 'NOT' 'NOT' 'NOT' 'NOT' 'NOT' 'TIN'\n",
            " 'NOT' 'NOT' 'NOT' 'NOT' 'NOT' 'NOT' 'NOT' 'NOT' 'NOT' 'NOT' 'NOT' 'TIN'\n",
            " 'NOT' 'NOT' 'NOT' 'TIN' 'NOT' 'NOT' 'NOT' 'NOT' 'NOT' 'NOT' 'NOT' 'TIN'\n",
            " 'NOT' 'NOT' 'NOT' 'NOT']\n"
          ]
        }
      ]
    },
    {
      "cell_type": "code",
      "source": [
        "print(\"Accuracy of logistic regression =\",accuracy_logistic)\n",
        "print(\"Accuracy of Naive Byes =\",accuracy_naive_byes)\n",
        "print(\"Accuracy of Decision Tree Classifier =\",accuracy_decision_tree)"
      ],
      "metadata": {
        "id": "Y6r-wd_i_BKd",
        "colab": {
          "base_uri": "https://localhost:8080/"
        },
        "outputId": "7ac41bcd-4b2e-428a-f3c5-edeca8c1c257"
      },
      "execution_count": 14,
      "outputs": [
        {
          "output_type": "stream",
          "name": "stdout",
          "text": [
            "Accuracy of logistic regression = 0.7348942598187311\n",
            "Accuracy of Naive Byes = 0.6867447129909365\n",
            "Accuracy of Decision Tree Classifier = 0.6890105740181269\n"
          ]
        }
      ]
    },
    {
      "cell_type": "code",
      "source": [],
      "metadata": {
        "id": "5ru_j9PR3ueV"
      },
      "execution_count": 14,
      "outputs": []
    }
  ]
}